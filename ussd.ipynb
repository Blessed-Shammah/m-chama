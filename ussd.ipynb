{
 "cells": [
  {
   "cell_type": "code",
   "execution_count": 2,
   "metadata": {},
   "outputs": [
    {
     "name": "stdout",
     "output_type": "stream",
     "text": [
      " * Serving Flask app '__main__'\n",
      " * Debug mode: off\n"
     ]
    },
    {
     "name": "stderr",
     "output_type": "stream",
     "text": [
      "WARNING: This is a development server. Do not use it in a production deployment. Use a production WSGI server instead.\n",
      " * Running on all addresses (0.0.0.0)\n",
      " * Running on http://127.0.0.1:5000\n",
      " * Running on http://192.168.1.114:5000\n",
      "Press CTRL+C to quit\n",
      "127.0.0.1 - - [30/Sep/2024 22:58:01] \"POST / HTTP/1.1\" 200 -\n"
     ]
    },
    {
     "name": "stdout",
     "output_type": "stream",
     "text": [
      "\n"
     ]
    },
    {
     "name": "stderr",
     "output_type": "stream",
     "text": [
      "127.0.0.1 - - [30/Sep/2024 22:58:04] \"POST / HTTP/1.1\" 200 -\n",
      "127.0.0.1 - - [30/Sep/2024 22:58:07] \"POST / HTTP/1.1\" 200 -\n"
     ]
    },
    {
     "name": "stdout",
     "output_type": "stream",
     "text": [
      "1*1234\n"
     ]
    }
   ],
   "source": [
    "import os\n",
    "from flask import Flask, request, make_response\n",
    "\n",
    "app = Flask(__name__)\n",
    "\n",
    "@app.route('/', methods=['POST', 'GET'])\n",
    "def ussd_callback():\n",
    "    response = \"\"\n",
    "    session_id = request.values.get(\"sessionId\", None)\n",
    "    service_code = request.values.get(\"serviceCode\", None)\n",
    "    phone_number = request.values.get(\"phoneNumber\", None)\n",
    "    text = request.values.get(\"text\", \"default\")\n",
    "    \n",
    "    # Split the text input to handle the stages of input\n",
    "    user_input = text.split('*')\n",
    "        \n",
    "    # Start Menu\n",
    "    if text == '':\n",
    "        response = \"CON Welcome to M-Chama! \\n\"\n",
    "        response += \"1. Login \\n\"\n",
    "        response += \"2. Register \\n\"\n",
    "        response += \"3. About\"\n",
    "        print(text)\n",
    "        \n",
    "    # Login logic\n",
    "    elif text.startswith('1'):\n",
    "        if len(user_input) == 1:  # Request for PIN entry\n",
    "            response = \"CON Enter Pin\"\n",
    "        elif len(user_input) == 2:  # Pin entered by the user\n",
    "            pin = \"1234\"  # Static pin for example, should be fetched from the database\n",
    "            if user_input[1] == pin:\n",
    "                print(text)\n",
    "                response = \"CON Welcome to M-Chama:\\n\"\n",
    "                response += \"1. My Chama \\n\"\n",
    "                response += \"2. Join Chama \\n\"\n",
    "                response += \"3. Search Chama \\n\"\n",
    "                response += \"4. Create Chama \\n\"\n",
    "                response += \"5. Financial Information\"\n",
    "            else:\n",
    "                response = \"CON Invalid Pin, Try Again.\"\n",
    "\n",
    "    # Register Menu\n",
    "    elif text.startswith('1*2'):\n",
    "        if len(user_input) == 2:  # Request for the first pin\n",
    "            response = \"CON Enter Pin\"\n",
    "        elif len(user_input) == 3:  # Request for pin confirmation\n",
    "            if len(user_input[2]) < 4:\n",
    "                response = \"CON Invalid Pin, Try Again.\"\n",
    "            else:\n",
    "                response = \"CON Confirm Pin\"\n",
    "        elif len(user_input) == 4:  # Pin confirmation\n",
    "            if user_input[2] == user_input[3]:\n",
    "                # Here, you would store the pin and phone number in the database\n",
    "                response = \"CON Registration successful! \\n\"\n",
    "                response += \"1. My Chama \\n\"\n",
    "                response += \"2. Join Chama \\n\"\n",
    "                response += \"3. Search Chama \\n\"\n",
    "                response += \"4. Create Chama \\n\"\n",
    "                response += \"5. Financial Information\"\n",
    "            else:\n",
    "                response = \"CON Pins do not match, Try Again.\"\n",
    "\n",
    "    elif text == '1*3':\n",
    "        response = \"END M-Chama helps you improve finances through a merry-go-round system. For 10 KES/month, you join a network aimed at supporting low-income families, youths, and more. Improve your credit score while keeping your money flowing!\"\n",
    "\n",
    "    # Ensure a valid response is returned in all cases\n",
    "    resp = make_response(response, 200)\n",
    "    resp.headers['Content-Type'] = \"text/plain\"\n",
    "    return resp\n",
    "\n",
    "if __name__ == '__main__':\n",
    "    port = int(os.environ.get('PORT', 5000))\n",
    "    app.run(host=\"0.0.0.0\", port=port)\n"
   ]
  },
  {
   "cell_type": "code",
   "execution_count": 11,
   "metadata": {},
   "outputs": [
    {
     "name": "stdout",
     "output_type": "stream",
     "text": [
      " * Serving Flask app '__main__'\n",
      " * Debug mode: off\n"
     ]
    },
    {
     "name": "stderr",
     "output_type": "stream",
     "text": [
      "WARNING: This is a development server. Do not use it in a production deployment. Use a production WSGI server instead.\n",
      " * Running on all addresses (0.0.0.0)\n",
      " * Running on http://127.0.0.1:5000\n",
      " * Running on http://192.168.1.114:5000\n",
      "Press CTRL+C to quit\n",
      "127.0.0.1 - - [30/Sep/2024 23:18:00] \"POST / HTTP/1.1\" 200 -\n",
      "127.0.0.1 - - [30/Sep/2024 23:18:02] \"POST / HTTP/1.1\" 200 -\n",
      "127.0.0.1 - - [30/Sep/2024 23:18:04] \"POST / HTTP/1.1\" 200 -\n",
      "127.0.0.1 - - [30/Sep/2024 23:18:08] \"POST / HTTP/1.1\" 200 -\n",
      "127.0.0.1 - - [30/Sep/2024 23:18:10] \"POST / HTTP/1.1\" 200 -\n"
     ]
    }
   ],
   "source": [
    "import os\n",
    "from flask import Flask, request, make_response\n",
    "\n",
    "app = Flask(__name__)\n",
    "\n",
    "@app.route('/', methods=['POST', 'GET'])\n",
    "def ussd_callback():\n",
    "    try:\n",
    "        # Initialize response to prevent 'response not associated' errors\n",
    "        response = \"CON Welcome to M-Chama!\"\n",
    "\n",
    "        session_id = request.values.get(\"sessionId\", None)\n",
    "        service_code = request.values.get(\"serviceCode\", None)\n",
    "        phone_number = request.values.get(\"phoneNumber\", None)\n",
    "        text = request.values.get(\"text\", \"default\")\n",
    "        \n",
    "        # Split the text input to handle the stages of input\n",
    "        user_input = text.split('*')\n",
    "\n",
    "        # Initial Menu (Language selection)\n",
    "        if text == '' or text == 'default':\n",
    "            # Language selection menu\n",
    "            response = \"CON Welcome to M-Chama! Select Language: \\n\"\n",
    "            response += \"1. English \\n\"\n",
    "            response += \"2. Kiswahili\"\n",
    "\n",
    "        # English Menu\n",
    "        elif text == '1':\n",
    "            response = \"CON Welcome to M-Chama! \\n\"\n",
    "            response += \"1. Login \\n\"\n",
    "            response += \"2. Register \\n\"\n",
    "            response += \"3. About\"\n",
    "\n",
    "        # Login Menu (English, 1*1)\n",
    "        elif text.startswith('1*1'):\n",
    "            if len(user_input) == 2:  # Request for PIN entry\n",
    "                response = \"CON Enter your PIN:\"\n",
    "            elif len(user_input) == 3:  # PIN entered\n",
    "                pin = \"1234\"  # Static PIN for example, should fetch from DB\n",
    "                if user_input[2] == pin:\n",
    "                    # Reset text to show main options again\n",
    "                    response = \"CON Welcome to M-Chama: \\n\"\n",
    "                    response += \"1. My Chama \\n\"\n",
    "                    response += \"2. Join Chama \\n\"\n",
    "                    response += \"3. Search Chama \\n\"\n",
    "                    response += \"4. Create Chama \\n\"\n",
    "                    response += \"5. Financial Information\"\n",
    "                else:\n",
    "                    response = \"CON Invalid PIN, try again.\"\n",
    "\n",
    "        # Register Menu (English, 1*2)\n",
    "        elif text.startswith('1*2'):\n",
    "            if len(user_input) == 2:  # Request for a new PIN\n",
    "                response = \"CON Enter your desired PIN:\"\n",
    "            elif len(user_input) == 3:  # Confirm the PIN\n",
    "                if len(user_input[2]) < 4:\n",
    "                    response = \"CON PIN must be 4 digits. Try again.\"\n",
    "                else:\n",
    "                    response = \"CON Confirm your PIN:\"\n",
    "            elif len(user_input) == 4:  # PIN confirmation\n",
    "                if user_input[2] == user_input[3]:\n",
    "                    # Store the PIN and phone number in the database\n",
    "                    response = \"CON Registration successful! \\n\"\n",
    "                    response += \"1. My Chama \\n\"\n",
    "                    response += \"2. Join Chama \\n\"\n",
    "                    response += \"3. Search Chama \\n\"\n",
    "                    response += \"4. Create Chama \\n\"\n",
    "                    response += \"5. Financial Information\"\n",
    "                else:\n",
    "                    response = \"CON PINs do not match. Try again.\"\n",
    "\n",
    "        # About Menu (1*3)\n",
    "        elif text == '1*3':\n",
    "            response = \"END M-Chama helps you improve finances through a merry-go-round system. For 10 KES/month, you join a network aimed at supporting low-income families, youths, and more. Improve your credit score while keeping your money flowing!\"\n",
    "\n",
    "        # Create Chama flow\n",
    "        elif text.startswith('1*1*4') or text.startswith('1*2*4'):\n",
    "            if len(user_input) == 3:  # Request for Chama name\n",
    "                response += \"CON Enter Chama Name:\"\n",
    "            elif len(user_input) == 4:  # Request for contribution amount\n",
    "                response += \"CON Set Contribution Amount (KES):\"\n",
    "            elif len(user_input) == 5:  # Set contribution frequency\n",
    "                response += \"CON Set Contribution Frequency: \\n1. Weekly \\n2. Monthly\"\n",
    "            elif len(user_input) == 6:  # Set number of members\n",
    "                response += \"CON Enter Number of Members:\"\n",
    "            elif len(user_input) == 7:  # Confirm Chama creation\n",
    "                response = \"END Chama created successfully!\"\n",
    "        \n",
    "        # Ensure a valid response is returned in all cases\n",
    "        resp = make_response(response, 200)\n",
    "        resp.headers['Content-Type'] = \"text/plain\"\n",
    "        return resp\n",
    "\n",
    "    except Exception as e:\n",
    "        print(f\"Error occurred: {str(e)}\")  # Print the actual error for debugging\n",
    "        return make_response(\"END An error occurred. Please try again later.\", 200)\n",
    "\n",
    "if __name__ == '__main__':\n",
    "    port = int(os.environ.get('PORT', 5000))\n",
    "    app.run(host=\"0.0.0.0\", port=port)\n"
   ]
  },
  {
   "cell_type": "code",
   "execution_count": 12,
   "metadata": {},
   "outputs": [
    {
     "name": "stdout",
     "output_type": "stream",
     "text": [
      " * Serving Flask app '__main__'\n",
      " * Debug mode: off\n"
     ]
    },
    {
     "name": "stderr",
     "output_type": "stream",
     "text": [
      "WARNING: This is a development server. Do not use it in a production deployment. Use a production WSGI server instead.\n",
      " * Running on all addresses (0.0.0.0)\n",
      " * Running on http://127.0.0.1:5000\n",
      " * Running on http://192.168.1.114:5000\n",
      "Press CTRL+C to quit\n",
      "127.0.0.1 - - [30/Sep/2024 23:20:10] \"POST / HTTP/1.1\" 200 -\n"
     ]
    },
    {
     "name": "stdout",
     "output_type": "stream",
     "text": [
      "Received Input: ['']\n"
     ]
    },
    {
     "name": "stderr",
     "output_type": "stream",
     "text": [
      "127.0.0.1 - - [30/Sep/2024 23:20:13] \"POST / HTTP/1.1\" 200 -\n"
     ]
    },
    {
     "name": "stdout",
     "output_type": "stream",
     "text": [
      "Received Input: ['1']\n"
     ]
    },
    {
     "name": "stderr",
     "output_type": "stream",
     "text": [
      "127.0.0.1 - - [30/Sep/2024 23:20:15] \"POST / HTTP/1.1\" 200 -\n"
     ]
    },
    {
     "name": "stdout",
     "output_type": "stream",
     "text": [
      "Received Input: ['1', '1']\n"
     ]
    },
    {
     "name": "stderr",
     "output_type": "stream",
     "text": [
      "127.0.0.1 - - [30/Sep/2024 23:20:18] \"POST / HTTP/1.1\" 200 -\n"
     ]
    },
    {
     "name": "stdout",
     "output_type": "stream",
     "text": [
      "Received Input: ['1', '1', '1234']\n"
     ]
    },
    {
     "name": "stderr",
     "output_type": "stream",
     "text": [
      "127.0.0.1 - - [30/Sep/2024 23:20:22] \"POST / HTTP/1.1\" 200 -\n"
     ]
    },
    {
     "name": "stdout",
     "output_type": "stream",
     "text": [
      "Received Input: ['1', '1', '1234', '4']\n"
     ]
    }
   ],
   "source": [
    "import os\n",
    "from flask import Flask, request, make_response\n",
    "\n",
    "app = Flask(__name__)\n",
    "\n",
    "@app.route('/', methods=['POST', 'GET'])\n",
    "def ussd_callback():\n",
    "    try:\n",
    "        # Initialize response to prevent 'response not associated' errors\n",
    "        response = \"CON Welcome to M-Chama!\"\n",
    "\n",
    "        session_id = request.values.get(\"sessionId\", None)\n",
    "        service_code = request.values.get(\"serviceCode\", None)\n",
    "        phone_number = request.values.get(\"phoneNumber\", None)\n",
    "        text = request.values.get(\"text\", \"default\")\n",
    "        \n",
    "        # Split the text input to handle the stages of input\n",
    "        user_input = text.split('*')\n",
    "        print(f\"Received Input: {user_input}\")  # Debugging\n",
    "\n",
    "        # Initial Menu (Language selection)\n",
    "        if text == '' or text == 'default':\n",
    "            # Language selection menu\n",
    "            response = \"CON Welcome to M-Chama! Select Language: \\n\"\n",
    "            response += \"1. English \\n\"\n",
    "            response += \"2. Kiswahili\"\n",
    "\n",
    "        # English Menu\n",
    "        elif text == '1':\n",
    "            response = \"CON Welcome to M-Chama! \\n\"\n",
    "            response += \"1. Login \\n\"\n",
    "            response += \"2. Register \\n\"\n",
    "            response += \"3. About\"\n",
    "\n",
    "        # Login Menu (English, 1*1)\n",
    "        elif text.startswith('1*1'):\n",
    "            if len(user_input) == 2:  # Request for PIN entry\n",
    "                response = \"CON Enter your PIN:\"\n",
    "            elif len(user_input) == 3:  # PIN entered\n",
    "                pin = \"1234\"  # Static PIN for example, should fetch from DB\n",
    "                if user_input[2] == pin:\n",
    "                    # Show main options after successful login\n",
    "                    response = \"CON Welcome to M-Chama: \\n\"\n",
    "                    response += \"1. My Chama \\n\"\n",
    "                    response += \"2. Join Chama \\n\"\n",
    "                    response += \"3. Search Chama \\n\"\n",
    "                    response += \"4. Create Chama \\n\"\n",
    "                    response += \"5. Financial Information\"\n",
    "                else:\n",
    "                    response = \"CON Invalid PIN, try again.\"\n",
    "\n",
    "        # Register Menu (English, 1*2)\n",
    "        elif text.startswith('1*2'):\n",
    "            if len(user_input) == 2:  # Request for a new PIN\n",
    "                response = \"CON Enter your desired PIN:\"\n",
    "            elif len(user_input) == 3:  # Confirm the PIN\n",
    "                if len(user_input[2]) < 4:\n",
    "                    response = \"CON PIN must be 4 digits. Try again.\"\n",
    "                else:\n",
    "                    response = \"CON Confirm your PIN:\"\n",
    "            elif len(user_input) == 4:  # PIN confirmation\n",
    "                if user_input[2] == user_input[3]:\n",
    "                    # Store the PIN and phone number in the database\n",
    "                    response = \"CON Registration successful! \\n\"\n",
    "                    response += \"1. My Chama \\n\"\n",
    "                    response += \"2. Join Chama \\n\"\n",
    "                    response += \"3. Search Chama \\n\"\n",
    "                    response += \"4. Create Chama \\n\"\n",
    "                    response += \"5. Financial Information\"\n",
    "                else:\n",
    "                    response = \"CON PINs do not match. Try again.\"\n",
    "\n",
    "        # About Menu (1*3)\n",
    "        elif text == '1*3':\n",
    "            response = \"END M-Chama helps you improve finances through a merry-go-round system. For 10 KES/month, you join a network aimed at supporting low-income families, youths, and more. Improve your credit score while keeping your money flowing!\"\n",
    "\n",
    "        # Create Chama flow (Handle user input for creating a Chama)\n",
    "        elif text.startswith('1*1*4'):\n",
    "            if len(user_input) == 3:  # After selecting Create Chama\n",
    "                response = \"CON Enter Chama Name:\"\n",
    "            elif len(user_input) == 4:  # After entering Chama Name\n",
    "                chama_name = user_input[3]\n",
    "                response = \"CON Set Contribution Amount (KES):\"\n",
    "            elif len(user_input) == 5:  # After entering Contribution Amount\n",
    "                contribution_amount = user_input[4]\n",
    "                response = \"CON Set Contribution Frequency: \\n1. Weekly \\n2. Monthly\"\n",
    "            elif len(user_input) == 6:  # After selecting Frequency\n",
    "                frequency = \"Weekly\" if user_input[5] == \"1\" else \"Monthly\"\n",
    "                response = \"CON Enter Number of Members:\"\n",
    "            elif len(user_input) == 7:  # After entering Number of Members\n",
    "                members = user_input[6]\n",
    "                # Confirmation step after entering all details\n",
    "                response = f\"END Chama '{chama_name}' created with {members} members contributing {contribution_amount} KES {frequency}.\"\n",
    "        \n",
    "        # Ensure a valid response is returned in all cases\n",
    "        resp = make_response(response, 200)\n",
    "        resp.headers['Content-Type'] = \"text/plain\"\n",
    "        return resp\n",
    "\n",
    "    except Exception as e:\n",
    "        print(f\"Error occurred: {str(e)}\")  # Print the actual error for debugging\n",
    "        return make_response(\"END An error occurred. Please try again later.\", 200)\n",
    "\n",
    "if __name__ == '__main__':\n",
    "    port = int(os.environ.get('PORT', 5000))\n",
    "    app.run(host=\"0.0.0.0\", port=port)\n"
   ]
  }
 ],
 "metadata": {
  "kernelspec": {
   "display_name": "Python 3",
   "language": "python",
   "name": "python3"
  },
  "language_info": {
   "codemirror_mode": {
    "name": "ipython",
    "version": 3
   },
   "file_extension": ".py",
   "mimetype": "text/x-python",
   "name": "python",
   "nbconvert_exporter": "python",
   "pygments_lexer": "ipython3",
   "version": "3.12.4"
  }
 },
 "nbformat": 4,
 "nbformat_minor": 2
}

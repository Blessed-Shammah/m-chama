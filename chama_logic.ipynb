{
 "cells": [
  {
   "cell_type": "markdown",
   "metadata": {},
   "source": [
    "# This is a Chama Logic\n",
    "Will contain:\n",
    "- UserList which is a list/ dict\n",
    "- Countribution\n",
    "- Duration\n",
    "- Disbursment\n",
    "# How it works\n",
    "## User Resigsters and is added to database\n",
    "1. User enters their details\n",
    "2. User is added to database\n",
    "## User Contributes\n",
    "1. User makes a regular countribution x or is fined.\n",
    "## Duration\n",
    "1. The chama distribution duration is defined y\n",
    "## Disbursment\n",
    "1. The chama disbursment is calculated based on the duration and the amount of money\n",
    "2. For each user gets an amount, total of all users countribution after a specified duration. eg. Monthly, Weekly, Bi-weekly.\n"
   ]
  },
  {
   "cell_type": "code",
   "execution_count": 2,
   "metadata": {},
   "outputs": [
    {
     "name": "stdout",
     "output_type": "stream",
     "text": [
      "['jane', 'john', 'kandi', 'lantez', 'jamo', 'kerry', 'tryonne', 'mensa', 'kelly', 'jake']\n"
     ]
    }
   ],
   "source": [
    "# Chama Logic\n",
    "# register\n",
    "users = []\n",
    "\n",
    "# to register 10 members\n",
    "for i in range(10):\n",
    "    name = input(\"Enter name: \")\n",
    "    users.append(name)\n",
    "\n",
    "print(users)"
   ]
  },
  {
   "cell_type": "code",
   "execution_count": 3,
   "metadata": {},
   "outputs": [
    {
     "name": "stdout",
     "output_type": "stream",
     "text": [
      "10\n"
     ]
    }
   ],
   "source": [
    "# Countribution\n",
    "amount = 1000\n",
    "\n",
    "# Duration\n",
    "total_users = len(users)\n",
    "print(total_users)"
   ]
  },
  {
   "cell_type": "code",
   "execution_count": 4,
   "metadata": {},
   "outputs": [
    {
     "name": "stdout",
     "output_type": "stream",
     "text": [
      "jane has been paid!\n",
      "john has been paid!\n",
      "kandi has been paid!\n",
      "lantez has been paid!\n",
      "jamo has been paid!\n",
      "kerry has been paid!\n",
      "tryonne has been paid!\n",
      "mensa has been paid!\n",
      "kelly has been paid!\n",
      "jake has been paid!\n",
      "All members have been Paid !!!\n"
     ]
    }
   ],
   "source": [
    "import time\n",
    "# Assuming you have defined users and total_users beforehand\n",
    "disbursed = {}\n",
    "amount = total_users * amount\n",
    "\n",
    "# To disburse\n",
    "for member in users:\n",
    "    if len(users) <= 0:\n",
    "        break\n",
    "    else:\n",
    "        if member in disbursed:\n",
    "            continue\n",
    "        else:\n",
    "            disbursed[member] = amount\n",
    "            print(f\"{member} has been paid!\")  # Print the key immediately when a user is paid\n",
    "    time.sleep(2)\n",
    "\n",
    "print(\"All members have been Paid !!!\")\n"
   ]
  },
  {
   "cell_type": "markdown",
   "metadata": {},
   "source": [
    "# USSD menu\n",
    "## 1. Structure\n",
    "1. Register\n",
    "2. Payment Mode\n",
    "3. Account\n",
    "4. Create CHAMA GROUP\n",
    "5. Search CHAMA GROUP\n",
    "6. My Finance\n",
    "\n",
    "### 1.1 Pre-menu\n",
    "`Welcome to CHAMA APP Select the Language you preffer:`\n",
    "1. ENGLISH/KISWAHILI\n",
    "\n",
    "### 1.2 Post-Menu\n",
    "`Welcome/Karibu`\n",
    "1. Login\n",
    "2. Register\n",
    "3. Create Chama\n",
    "4. Search Chama\n",
    "5. Financial Information\n",
    "6. About\n",
    "#. Next\n",
    "\n",
    "### 1.2.1 Login\n",
    "`Enter your phone/email number below:`\n",
    "### Pin\n",
    "`Enter pin `\n",
    "### \n",
    "`Login Successful`\n",
    "#Post-Menu#\n",
    "\n",
    "###\n"
   ]
  }
 ],
 "metadata": {
  "kernelspec": {
   "display_name": "Python 3",
   "language": "python",
   "name": "python3"
  },
  "language_info": {
   "codemirror_mode": {
    "name": "ipython",
    "version": 3
   },
   "file_extension": ".py",
   "mimetype": "text/x-python",
   "name": "python",
   "nbconvert_exporter": "python",
   "pygments_lexer": "ipython3",
   "version": "3.12.6"
  }
 },
 "nbformat": 4,
 "nbformat_minor": 2
}
